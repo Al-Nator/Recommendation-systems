{
  "cells": [
    {
      "cell_type": "markdown",
      "id": "3a7b8809",
      "metadata": {
        "id": "3a7b8809"
      },
      "source": [
        "### 1 часть – общий пример\n",
        "\n",
        "Цель: научиться использовать библиотеку LightFM для построения гибридной\n",
        "рекомендательной системы, а также оценить качество полученной модели на\n",
        "реальных данных."
      ]
    },
    {
      "cell_type": "markdown",
      "id": "676ddeae",
      "metadata": {
        "id": "676ddeae"
      },
      "source": [
        "1. Установить библиотеку LightFM\n"
      ]
    },
    {
      "cell_type": "code",
      "execution_count": 1,
      "id": "c872d269",
      "metadata": {
        "colab": {
          "base_uri": "https://localhost:8080/"
        },
        "id": "c872d269",
        "outputId": "5707c4c5-70d4-490c-e2ba-18d2743cc485"
      },
      "outputs": [
        {
          "name": "stdout",
          "output_type": "stream",
          "text": [
            "Collecting git+https://github.com/daviddavo/lightfm\n",
            "  Cloning https://github.com/daviddavo/lightfm to /tmp/pip-req-build-wiim353c\n",
            "  Running command git clone --filter=blob:none --quiet https://github.com/daviddavo/lightfm /tmp/pip-req-build-wiim353c\n",
            "  Resolved https://github.com/daviddavo/lightfm to commit f0eb500ead54ab65eb8e1b3890337a7223a35114\n",
            "  Preparing metadata (setup.py) ... \u001b[?25l\u001b[?25hdone\n",
            "Requirement already satisfied: numpy in /usr/local/lib/python3.11/dist-packages (from lightfm==1.17) (2.0.2)\n",
            "Requirement already satisfied: scipy>=0.17.0 in /usr/local/lib/python3.11/dist-packages (from lightfm==1.17) (1.15.2)\n",
            "Requirement already satisfied: requests in /usr/local/lib/python3.11/dist-packages (from lightfm==1.17) (2.32.3)\n",
            "Requirement already satisfied: scikit-learn in /usr/local/lib/python3.11/dist-packages (from lightfm==1.17) (1.6.1)\n",
            "Requirement already satisfied: charset-normalizer<4,>=2 in /usr/local/lib/python3.11/dist-packages (from requests->lightfm==1.17) (3.4.1)\n",
            "Requirement already satisfied: idna<4,>=2.5 in /usr/local/lib/python3.11/dist-packages (from requests->lightfm==1.17) (3.10)\n",
            "Requirement already satisfied: urllib3<3,>=1.21.1 in /usr/local/lib/python3.11/dist-packages (from requests->lightfm==1.17) (2.4.0)\n",
            "Requirement already satisfied: certifi>=2017.4.17 in /usr/local/lib/python3.11/dist-packages (from requests->lightfm==1.17) (2025.4.26)\n",
            "Requirement already satisfied: joblib>=1.2.0 in /usr/local/lib/python3.11/dist-packages (from scikit-learn->lightfm==1.17) (1.4.2)\n",
            "Requirement already satisfied: threadpoolctl>=3.1.0 in /usr/local/lib/python3.11/dist-packages (from scikit-learn->lightfm==1.17) (3.6.0)\n",
            "Building wheels for collected packages: lightfm\n",
            "  Building wheel for lightfm (setup.py) ... \u001b[?25l\u001b[?25hdone\n",
            "  Created wheel for lightfm: filename=lightfm-1.17-cp311-cp311-linux_x86_64.whl size=1070682 sha256=ff65e4b4e92b4c52638e78d674200dc4655b7353911356f1ed021a7c9e83be35\n",
            "  Stored in directory: /tmp/pip-ephem-wheel-cache-gzmoklyy/wheels/c8/8f/1d/d3f463d8a4f3c02329387523b4a67d9a415ba7776580d7eee2\n",
            "Successfully built lightfm\n",
            "Installing collected packages: lightfm\n",
            "Successfully installed lightfm-1.17\n"
          ]
        }
      ],
      "source": [
        "!pip install git+https://github.com/daviddavo/lightfm"
      ]
    },
    {
      "cell_type": "markdown",
      "id": "abecfa3d",
      "metadata": {
        "id": "abecfa3d"
      },
      "source": [
        "2. Выполнить импорт необходимых библиотек\n"
      ]
    },
    {
      "cell_type": "code",
      "execution_count": 2,
      "id": "507ff1a0",
      "metadata": {
        "id": "507ff1a0"
      },
      "outputs": [],
      "source": [
        "from lightfm import LightFM\n",
        "from lightfm.datasets import fetch_movielens\n",
        "from lightfm.evaluation import precision_at_k, auc_score"
      ]
    },
    {
      "cell_type": "markdown",
      "id": "e8c24518",
      "metadata": {
        "id": "e8c24518"
      },
      "source": [
        "3. Подготовка данных\\\n",
        "Функция fetch_movielens загружает набор данных Movielens и возвращает\n",
        "словарь, содержащий матрицу оценок, пользовательские функции,\n",
        "характеристики элементов и другую информацию. В построении данной рек.\n",
        "системы нас интересует только матрица оценок.\n"
      ]
    },
    {
      "cell_type": "code",
      "execution_count": null,
      "id": "713ba49b",
      "metadata": {
        "id": "713ba49b"
      },
      "outputs": [],
      "source": [
        "data = fetch_movielens(min_rating=5.0)"
      ]
    },
    {
      "cell_type": "markdown",
      "id": "3e32b0ff",
      "metadata": {
        "id": "3e32b0ff"
      },
      "source": [
        "4. Реализация гибридной рекомендательной системы\\\n",
        "Для реализации рекомендательной системы с lightFM предпочтительным\n",
        "алгоритмом является WARP (Weighted Approximate-Rank Pairwise)."
      ]
    },
    {
      "cell_type": "code",
      "execution_count": null,
      "id": "3b2e7075",
      "metadata": {
        "colab": {
          "base_uri": "https://localhost:8080/"
        },
        "id": "3b2e7075",
        "outputId": "a8aaa643-e865-4597-8cb9-eb7396d87d1a"
      },
      "outputs": [
        {
          "name": "stderr",
          "output_type": "stream",
          "text": [
            "Epoch: 100%|██████████| 30/30 [00:05<00:00,  5.21it/s]\n"
          ]
        },
        {
          "data": {
            "text/plain": [
              "<lightfm.lightfm.LightFM at 0x7f614c3b4d90>"
            ]
          },
          "execution_count": 4,
          "metadata": {},
          "output_type": "execute_result"
        }
      ],
      "source": [
        "model = LightFM(loss='warp')\n",
        "model.fit(data['train'],\n",
        "          epochs=30,\n",
        "          num_threads=2,\n",
        "          verbose=True)"
      ]
    },
    {
      "cell_type": "markdown",
      "id": "25165634",
      "metadata": {
        "id": "25165634"
      },
      "source": [
        "5. Генерация рекомендаций\\\n",
        "Используем созданную модель для генерации рекомендаций для\n",
        "пользователей, вызвав метод recommend. Метод recommend принимает два\n",
        "аргумента: user_ids и item_ids . Мы можем генерировать рекомендации для\n",
        "одного пользователя или нескольких пользователей одновременно. Мы также\n",
        "можем указать количество рекомендаций для генерации. Следующий код\n",
        "генерирует 10 рекомендаций для пользователя 3."
      ]
    },
    {
      "cell_type": "code",
      "execution_count": null,
      "id": "1bc898fd",
      "metadata": {
        "colab": {
          "base_uri": "https://localhost:8080/"
        },
        "id": "1bc898fd",
        "outputId": "eee6d83a-21e6-4c12-dad6-a3d3d948f753"
      },
      "outputs": [
        {
          "data": {
            "text/plain": [
              "array([299, 325, 301, 878, 345, 269, 312, 326, 358, 321])"
            ]
          },
          "execution_count": 5,
          "metadata": {},
          "output_type": "execute_result"
        }
      ],
      "source": [
        "import numpy as np\n",
        "user_id = 3\n",
        "n_items = data['train'].shape[1]\n",
        "recommendations = model.predict(user_id, np.arange(n_items))\n",
        "top_items = np.argsort(-recommendations)[:10]\n",
        "top_items"
      ]
    },
    {
      "cell_type": "markdown",
      "id": "6fb49cb0",
      "metadata": {
        "id": "6fb49cb0"
      },
      "source": [
        "6. Оценка рекомендательной системы\\\n",
        "Оцените производительность модели, используя метрики precision at k и\n",
        "AUC. Метрика precision at k измеряет процент рекомендаций, которые были\n",
        "релевантны пользователю, из числа k лучших рекомендаций. Метрика AUC\n",
        "измеряет площадь под кривой рабочей характеристики приемника (ROC),\n",
        "которая показывает частоту истинных положительных срабатываний по\n",
        "сравнению с частотой ложных положительных срабатываний.\\\n",
        "Мы можем использовать библиотеку LightFM для вычисления этих\n",
        "показателей. Точность из k рекомендаций может быть рассчитана с помощью\n",
        "метода precision_at_k, а AUC может быть рассчитан с помощью метода auc_score.\\\n",
        "В этом примере мы обучаем модель на основе матрицы взаимодействий и\n",
        "оцениваем точность по метрикам k и AUC как для обучающего, так и для\n",
        "тестового наборов данных. Мы используем значение 10 для k, что означает, что\n",
        "мы рассматриваем только 10 лучших рекомендаций для каждого пользователя.\n",
        "Можно также попробовать вариант модели для k = 5."
      ]
    },
    {
      "cell_type": "code",
      "execution_count": null,
      "id": "a1911bb6",
      "metadata": {
        "colab": {
          "base_uri": "https://localhost:8080/"
        },
        "id": "a1911bb6",
        "outputId": "b02caae8-ca19-404b-afce-f5ee60dc58a4"
      },
      "outputs": [
        {
          "name": "stdout",
          "output_type": "stream",
          "text": [
            "Train precision: 0.36\n",
            "Train AUC: 0.97\n",
            "Test precision: 0.05\n",
            "Test AUC: 0.91\n"
          ]
        }
      ],
      "source": [
        "train_precision = np.mean(precision_at_k(model, data['train'], k=10, num_threads=2))\n",
        "train_auc = np.mean(auc_score(model, data['train'], num_threads=2))\n",
        "test_precision = np.mean(precision_at_k(model, data['test'], k=10, num_threads=2))\n",
        "test_auc = np.mean(auc_score(model, data['test'], num_threads=2))\n",
        "print('Train precision: {:.2f}'.format(train_precision))\n",
        "print('Train AUC: {:.2f}'.format(train_auc))\n",
        "print('Test precision: {:.2f}'.format(test_precision))\n",
        "print('Test AUC: {:.2f}'.format(test_auc))"
      ]
    },
    {
      "cell_type": "markdown",
      "id": "6041cad0",
      "metadata": {
        "id": "6041cad0"
      },
      "source": [
        "### 2 часть – ИНДЗ\n",
        "Тема: Реализация гибридной модели рекомендаций на собственных данных\n",
        "Цель: научиться использовать библиотеку LightFM для построения гибридной\n",
        "рекомендательной системы, которая комбинирует коллаборативную\n",
        "фильтрацию и учёт признаков пользователей и/или товаров, на вашем\n",
        "собственном наборе данных."
      ]
    },
    {
      "cell_type": "markdown",
      "id": "13dd2c73",
      "metadata": {
        "id": "13dd2c73"
      },
      "source": [
        "Требования к данным\n",
        "Ваш набор данных должен содержать:\n",
        "1. Матрицу взаимодействий (user-item matrix):\n",
        "- Строки — пользователи, столбцы — товары, значения — оценки или\n",
        "факты взаимодействий (например, клики, покупки).\n",
        "- Матрица может быть разреженной, например, в формате CSR\n",
        "(Compressed Sparse Row).\n",
        "2. Признаки пользователей (User Features):\n",
        "- Пример: возраст, пол, местоположение, категории интересов.\n",
        "- Если таких данных нет, вы можете использовать только\n",
        "идентификаторы пользователей (в виде one-hot encoding).\n",
        "3. Признаки товаров (Item Features):\n",
        "- Пример: жанры фильмов, категории продуктов, цена, бренд.\n",
        "- Если таких данных нет, используйте только идентификаторы\n",
        "товаров."
      ]
    },
    {
      "cell_type": "code",
      "execution_count": null,
      "id": "706e60b1",
      "metadata": {
        "id": "706e60b1"
      },
      "outputs": [],
      "source": [
        "import json, time\n",
        "from collections import defaultdict\n",
        "from lightfm.data import Dataset\n",
        "from lightfm import LightFM\n",
        "from lightfm.evaluation import precision_at_k, auc_score\n",
        "from scipy.sparse import lil_matrix\n",
        "import numpy as np\n",
        "from sklearn.feature_extraction.text import TfidfVectorizer"
      ]
    },
    {
      "cell_type": "markdown",
      "id": "c15033a4",
      "metadata": {
        "id": "c15033a4"
      },
      "source": [
        "1. Подготовка данных:\n",
        "\n",
        "Загрузите ваш набор данных и подготовьте три компонента:\n",
        "- матрицу взаимодействий;\n",
        "- признаки пользователей;\n",
        "- признаки товаров.\n",
        "\n",
        "Если у вас нет явных признаков пользователей или товаров,\n",
        "используйте dummy-признаки (например, идентификаторы)."
      ]
    },
    {
      "cell_type": "code",
      "execution_count": null,
      "id": "0-r6GQEJzY9A",
      "metadata": {
        "id": "0-r6GQEJzY9A"
      },
      "outputs": [],
      "source": [
        "review_path = '/content/AMAZON_FASHION_5.json'\n",
        "interactions = []\n",
        "seen = set()\n",
        "user_raw = defaultdict(set)\n",
        "item_raw = defaultdict(set)\n",
        "item_summary = defaultdict(list)\n",
        "\n",
        "with open(review_path, 'r', encoding='utf-8') as f:\n",
        "    for line in f:\n",
        "        r = json.loads(line)\n",
        "        if r.get('overall', 0) < 5.0:\n",
        "            continue\n",
        "        uid = r['reviewerID']\n",
        "        iid = r['asin']\n",
        "        if (uid, iid) in seen:\n",
        "            continue\n",
        "        seen.add((uid, iid))\n",
        "        interactions.append((uid, iid))\n",
        "        if r.get('verified'):\n",
        "            user_raw[uid].add('verified')\n",
        "        year = time.gmtime(r['unixReviewTime']).tm_year\n",
        "        user_raw[uid].add(f'year:{year}')\n",
        "        length = len(r.get('reviewText', '').split())\n",
        "        user_raw[uid].add(f'revlen_bucket:{length//50}')\n",
        "        item_summary[iid].append(r.get('summary', ''))\n",
        "        for k, v in r.get('style', {}).items():\n",
        "            if v:\n",
        "                item_raw[iid].add(f\"{k.strip().lower()}{v.strip()}\")\n",
        "                \n",
        "item_ids = list(item_summary.keys())\n",
        "docs = [' '.join(item_summary[iid]) for iid in item_ids]\n",
        "vectorizer = TfidfVectorizer(max_features=1000)\n",
        "tfidf_matrix = vectorizer.fit_transform(docs)\n",
        "\n",
        "all_user_feats = {f for fs in user_raw.values() for f in fs}\n",
        "all_item_feats = {f for fs in item_raw.values() for f in fs}\n",
        "dataset = Dataset()\n",
        "dataset.fit((u for u, _ in interactions),\n",
        "            (i for _, i in interactions),\n",
        "            user_features=all_user_feats,\n",
        "            item_features=all_item_feats)\n",
        "interactions_matrix, _ = dataset.build_interactions(interactions)\n",
        "uf = [(u, list(fs)) for u, fs in user_raw.items()]\n",
        "if_ = [(i, list(fs)) for i, fs in item_raw.items()]\n",
        "user_features_matrix = dataset.build_user_features(uf, normalize=True)\n",
        "item_features_matrix = dataset.build_item_features(if_, normalize=True)\n",
        "n_users, n_items = interactions_matrix.shape\n",
        "item_features_combined = hstack([item_features_matrix, tfidf_matrix], format='csr')"
      ]
    },
    {
      "cell_type": "markdown",
      "id": "0dcc5f49",
      "metadata": {
        "id": "0dcc5f49"
      },
      "source": [
        "2. Обучение модели:\n",
        "- Используйте алгоритм WARP (Weighted Approximate-Rank Pairwise)\n",
        "для обучения модели.\n",
        "- Учтите, что LightFM принимает признаки пользователей и товаров в\n",
        "формате разреженных матриц."
      ]
    },
    {
      "cell_type": "code",
      "execution_count": null,
      "id": "6bb8d1fe",
      "metadata": {
        "colab": {
          "base_uri": "https://localhost:8080/"
        },
        "id": "6bb8d1fe",
        "outputId": "eb9ff9cd-a96f-4119-b8b6-21404d9555c2"
      },
      "outputs": [
        {
          "name": "stdout",
          "output_type": "stream",
          "text": [
            "\"Epoch: 100%|██████████| 50/50 [00:41<00:00,  1.20it/s]\n",
            "\n"
          ]
        }
      ],
      "source": [
        "test_ratio = 0.2\n",
        "train = interactions_matrix.tolil()\n",
        "test = lil_matrix(train.shape, dtype=np.int32)\n",
        "rng = np.random.default_rng(42)\n",
        "\n",
        "for u in range(n_users):\n",
        "    pos = train.rows[u]\n",
        "    if len(pos) < 2:\n",
        "        continue\n",
        "    n_test = max(1, int(len(pos) * test_ratio))\n",
        "    for i in rng.choice(pos, size=n_test, replace=False):\n",
        "        train[u, i] = 0\n",
        "        test[u, i] = 1\n",
        "\n",
        "train = train.tocsr()\n",
        "test = test.tocsr()\n",
        "\n",
        "model = LightFM(loss='warp', no_components=64, learning_rate=0.03)\n",
        "model.fit(train,\n",
        "          user_features=user_features_matrix,\n",
        "          item_features=item_features_combined,\n",
        "          epochs=50,\n",
        "          num_threads=1,\n",
        "          verbose=True)"
      ]
    },
    {
      "cell_type": "markdown",
      "id": "42782db5",
      "metadata": {
        "id": "42782db5"
      },
      "source": [
        "3. Генерация рекомендаций:\n",
        "- Создайте список топ-N рекомендаций для нескольких\n",
        "пользователей.\n",
        "- Для проверки выберите хотя бы 5 пользователей"
      ]
    },
    {
      "cell_type": "code",
      "execution_count": null,
      "id": "e5e74f2b",
      "metadata": {
        "colab": {
          "base_uri": "https://localhost:8080/"
        },
        "id": "e5e74f2b",
        "outputId": "1c5fd5dd-2771-4971-d5e9-4bfb16495427"
      },
      "outputs": [
        {
          "name": "stdout",
          "output_type": "stream",
          "text": [
            "Top‑10 для user 0: [21 20 13 10 11  8 14 12 18 16]\n",
            "Top‑10 для user 1: [21 20 13 10 11 14  8 12 18 16]\n",
            "Top‑10 для user 2: [21 20 13 10 14 11  8 12 18 15]\n",
            "Top‑10 для user 3: [21 20 13 10 14 12 11  8  0 18]\n",
            "Top‑10 для user 4: [21 20 13 10  8 11 14 12 16 18]\n"
          ]
        }
      ],
      "source": [
        "N = 10\n",
        "all_items = np.arange(n_items, dtype=np.int32)\n",
        "\n",
        "for uid in range(min(n_users, 5)):\n",
        "    scores = model.predict(user_ids=np.full(n_items, uid, dtype=np.int32),\n",
        "                           item_ids=all_items,\n",
        "                           user_features=user_features_matrix,\n",
        "                           item_features=item_features_combined,\n",
        "                           num_threads=1)\n",
        "    scores[train[uid].indices] = -np.inf\n",
        "    top_items = np.argsort(-scores)[:N]\n",
        "    print(f\"Top-{N} для user {uid}: {top_items}\")"
      ]
    },
    {
      "cell_type": "markdown",
      "id": "caaa06d5",
      "metadata": {
        "id": "caaa06d5"
      },
      "source": [
        "4. Оценка модели:\n",
        "- Оцените производительность модели, используя метрики\n",
        "precision@k и AUC.\n",
        "- Проверьте результаты как на обучающем, так и на тестовом наборах\n",
        "данных."
      ]
    },
    {
      "cell_type": "code",
      "execution_count": null,
      "id": "4d7dd25e",
      "metadata": {
        "colab": {
          "base_uri": "https://localhost:8080/"
        },
        "id": "4d7dd25e",
        "outputId": "90f72ae9-0722-448e-d18b-82efcefc1142"
      },
      "outputs": [
        {
          "name": "stdout",
          "output_type": "stream",
          "text": [
            "train p@5=0.96  AUC=0.99\n",
            "test p@5=0.20  AUC=0.99\n"
          ]
        }
      ],
      "source": [
        "valid_users = np.where(test.getnnz(axis=1) > 0)[0]\n",
        "if len(valid_users) > 0:\n",
        "    users = rng.choice(valid_users, size=len(valid_users), replace=False)\n",
        "    train_sub = train[users]\n",
        "    test_sub = test[users]\n",
        "    user_feat_sub = user_features_matrix[users]\n",
        "\n",
        "    train_prec = precision_at_k(model, train_sub, k=5,\n",
        "                                user_features=user_feat_sub,\n",
        "                                item_features=item_features_combined).mean()\n",
        "    train_auc = auc_score(model, train_sub,\n",
        "                          user_features=user_feat_sub,\n",
        "                          item_features=item_features_combined).mean()\n",
        "    test_prec = precision_at_k(model, test_sub, train_interactions=train_sub, k=5,\n",
        "                               user_features=user_feat_sub,\n",
        "                               item_features=item_features_combined,\n",
        "                               check_intersections=False).mean()\n",
        "    test_auc = auc_score(model, test_sub, train_interactions=train_sub,\n",
        "                         user_features=user_feat_sub,\n",
        "                         item_features=item_features_combined,\n",
        "                         check_intersections=False).mean()\n",
        "\n",
        "    print(f\"train p@5={train_prec:.2f}  AUC={train_auc:.2f}\")\n",
        "    print(f\"test p@5={test_prec:.2f}  AUC={test_auc:.2f}\")"
      ]
    },
    {
      "cell_type": "code",
      "execution_count": null,
      "id": "IqO4cV3Az55i",
      "metadata": {
        "id": "IqO4cV3Az55i"
      },
      "outputs": [],
      "source": []
    }
  ],
  "metadata": {
    "colab": {
      "provenance": []
    },
    "kernelspec": {
      "display_name": "Python 3",
      "language": "python",
      "name": "python3"
    },
    "language_info": {
      "codemirror_mode": {
        "name": "ipython",
        "version": 3
      },
      "file_extension": ".py",
      "mimetype": "text/x-python",
      "name": "python",
      "nbconvert_exporter": "python",
      "pygments_lexer": "ipython3",
      "version": "3.12.3"
    }
  },
  "nbformat": 4,
  "nbformat_minor": 5
}
