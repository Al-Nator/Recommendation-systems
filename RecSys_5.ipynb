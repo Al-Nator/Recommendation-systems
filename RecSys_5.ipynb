{
 "cells": [
  {
   "cell_type": "markdown",
   "id": "38da9dbd",
   "metadata": {},
   "source": [
    "Цель: научиться использовать библиотеку Implicit для построения\n",
    "рекомендательной системы, которая учитывает взаимодействия пользователей с\n",
    "товарами, представленными в неявном виде."
   ]
  },
  {
   "cell_type": "code",
   "execution_count": 1,
   "id": "fef3c199",
   "metadata": {},
   "outputs": [],
   "source": [
    "import implicit\n",
    "import fireducks.pandas as pd\n",
    "from scipy.sparse import csr_matrix\n",
    "import numpy as np\n",
    "from implicit.evaluation import (\n",
    "    train_test_split,\n",
    "    precision_at_k,\n",
    "    ndcg_at_k,\n",
    "    AUC_at_k\n",
    ")"
   ]
  },
  {
   "cell_type": "code",
   "execution_count": 2,
   "id": "d52ce380",
   "metadata": {},
   "outputs": [
    {
     "data": {
      "text/html": [
       "<div>\n",
       "<style scoped>\n",
       "    .dataframe tbody tr th:only-of-type {\n",
       "        vertical-align: middle;\n",
       "    }\n",
       "\n",
       "    .dataframe tbody tr th {\n",
       "        vertical-align: top;\n",
       "    }\n",
       "\n",
       "    .dataframe thead th {\n",
       "        text-align: right;\n",
       "    }\n",
       "</style>\n",
       "<table border=\"1\" class=\"dataframe\">\n",
       "  <thead>\n",
       "    <tr style=\"text-align: right;\">\n",
       "      <th></th>\n",
       "      <th>Invoice</th>\n",
       "      <th>StockCode</th>\n",
       "      <th>Description</th>\n",
       "      <th>Quantity</th>\n",
       "      <th>InvoiceDate</th>\n",
       "      <th>Price</th>\n",
       "      <th>Customer ID</th>\n",
       "      <th>Country</th>\n",
       "    </tr>\n",
       "  </thead>\n",
       "  <tbody>\n",
       "    <tr>\n",
       "      <th>0</th>\n",
       "      <td>489434</td>\n",
       "      <td>85048</td>\n",
       "      <td>15CM CHRISTMAS GLASS BALL 20 LIGHTS</td>\n",
       "      <td>12</td>\n",
       "      <td>2009-12-01 07:45:00</td>\n",
       "      <td>6.95</td>\n",
       "      <td>13085.0</td>\n",
       "      <td>United Kingdom</td>\n",
       "    </tr>\n",
       "    <tr>\n",
       "      <th>1</th>\n",
       "      <td>489434</td>\n",
       "      <td>79323P</td>\n",
       "      <td>PINK CHERRY LIGHTS</td>\n",
       "      <td>12</td>\n",
       "      <td>2009-12-01 07:45:00</td>\n",
       "      <td>6.75</td>\n",
       "      <td>13085.0</td>\n",
       "      <td>United Kingdom</td>\n",
       "    </tr>\n",
       "    <tr>\n",
       "      <th>2</th>\n",
       "      <td>489434</td>\n",
       "      <td>79323W</td>\n",
       "      <td>WHITE CHERRY LIGHTS</td>\n",
       "      <td>12</td>\n",
       "      <td>2009-12-01 07:45:00</td>\n",
       "      <td>6.75</td>\n",
       "      <td>13085.0</td>\n",
       "      <td>United Kingdom</td>\n",
       "    </tr>\n",
       "    <tr>\n",
       "      <th>3</th>\n",
       "      <td>489434</td>\n",
       "      <td>22041</td>\n",
       "      <td>RECORD FRAME 7\" SINGLE SIZE</td>\n",
       "      <td>48</td>\n",
       "      <td>2009-12-01 07:45:00</td>\n",
       "      <td>2.10</td>\n",
       "      <td>13085.0</td>\n",
       "      <td>United Kingdom</td>\n",
       "    </tr>\n",
       "    <tr>\n",
       "      <th>4</th>\n",
       "      <td>489434</td>\n",
       "      <td>21232</td>\n",
       "      <td>STRAWBERRY CERAMIC TRINKET BOX</td>\n",
       "      <td>24</td>\n",
       "      <td>2009-12-01 07:45:00</td>\n",
       "      <td>1.25</td>\n",
       "      <td>13085.0</td>\n",
       "      <td>United Kingdom</td>\n",
       "    </tr>\n",
       "    <tr>\n",
       "      <th>...</th>\n",
       "      <td>...</td>\n",
       "      <td>...</td>\n",
       "      <td>...</td>\n",
       "      <td>...</td>\n",
       "      <td>...</td>\n",
       "      <td>...</td>\n",
       "      <td>...</td>\n",
       "      <td>...</td>\n",
       "    </tr>\n",
       "    <tr>\n",
       "      <th>1067366</th>\n",
       "      <td>581587</td>\n",
       "      <td>22899</td>\n",
       "      <td>CHILDREN'S APRON DOLLY GIRL</td>\n",
       "      <td>6</td>\n",
       "      <td>2011-12-09 12:50:00</td>\n",
       "      <td>2.10</td>\n",
       "      <td>12680.0</td>\n",
       "      <td>France</td>\n",
       "    </tr>\n",
       "    <tr>\n",
       "      <th>1067367</th>\n",
       "      <td>581587</td>\n",
       "      <td>23254</td>\n",
       "      <td>CHILDRENS CUTLERY DOLLY GIRL</td>\n",
       "      <td>4</td>\n",
       "      <td>2011-12-09 12:50:00</td>\n",
       "      <td>4.15</td>\n",
       "      <td>12680.0</td>\n",
       "      <td>France</td>\n",
       "    </tr>\n",
       "    <tr>\n",
       "      <th>1067368</th>\n",
       "      <td>581587</td>\n",
       "      <td>23255</td>\n",
       "      <td>CHILDRENS CUTLERY CIRCUS PARADE</td>\n",
       "      <td>4</td>\n",
       "      <td>2011-12-09 12:50:00</td>\n",
       "      <td>4.15</td>\n",
       "      <td>12680.0</td>\n",
       "      <td>France</td>\n",
       "    </tr>\n",
       "    <tr>\n",
       "      <th>1067369</th>\n",
       "      <td>581587</td>\n",
       "      <td>22138</td>\n",
       "      <td>BAKING SET 9 PIECE RETROSPOT</td>\n",
       "      <td>3</td>\n",
       "      <td>2011-12-09 12:50:00</td>\n",
       "      <td>4.95</td>\n",
       "      <td>12680.0</td>\n",
       "      <td>France</td>\n",
       "    </tr>\n",
       "    <tr>\n",
       "      <th>1067370</th>\n",
       "      <td>581587</td>\n",
       "      <td>POST</td>\n",
       "      <td>POSTAGE</td>\n",
       "      <td>1</td>\n",
       "      <td>2011-12-09 12:50:00</td>\n",
       "      <td>18.00</td>\n",
       "      <td>12680.0</td>\n",
       "      <td>France</td>\n",
       "    </tr>\n",
       "  </tbody>\n",
       "</table>\n",
       "<p>1067371 rows x 8 columns</p>\n",
       "</div>"
      ]
     },
     "metadata": {},
     "output_type": "display_data"
    }
   ],
   "source": [
    "pd.read_csv('data/online_retail_II.csv')"
   ]
  },
  {
   "cell_type": "code",
   "execution_count": 3,
   "id": "e0fd8fdc",
   "metadata": {},
   "outputs": [
    {
     "data": {
      "text/html": [
       "<div>\n",
       "<style scoped>\n",
       "    .dataframe tbody tr th:only-of-type {\n",
       "        vertical-align: middle;\n",
       "    }\n",
       "\n",
       "    .dataframe tbody tr th {\n",
       "        vertical-align: top;\n",
       "    }\n",
       "\n",
       "    .dataframe thead th {\n",
       "        text-align: right;\n",
       "    }\n",
       "</style>\n",
       "<table border=\"1\" class=\"dataframe\">\n",
       "  <thead>\n",
       "    <tr style=\"text-align: right;\">\n",
       "      <th></th>\n",
       "      <th>Invoice</th>\n",
       "      <th>StockCode</th>\n",
       "      <th>Description</th>\n",
       "      <th>Quantity</th>\n",
       "      <th>InvoiceDate</th>\n",
       "      <th>Price</th>\n",
       "      <th>Customer ID</th>\n",
       "      <th>Country</th>\n",
       "      <th>TotalPrice</th>\n",
       "    </tr>\n",
       "  </thead>\n",
       "  <tbody>\n",
       "    <tr>\n",
       "      <th>0</th>\n",
       "      <td>489434</td>\n",
       "      <td>85048</td>\n",
       "      <td>15CM CHRISTMAS GLASS BALL 20 LIGHTS</td>\n",
       "      <td>12</td>\n",
       "      <td>2009-12-01 07:45:00</td>\n",
       "      <td>6.95</td>\n",
       "      <td>13085.0</td>\n",
       "      <td>United Kingdom</td>\n",
       "      <td>83.4</td>\n",
       "    </tr>\n",
       "    <tr>\n",
       "      <th>1</th>\n",
       "      <td>489434</td>\n",
       "      <td>79323P</td>\n",
       "      <td>PINK CHERRY LIGHTS</td>\n",
       "      <td>12</td>\n",
       "      <td>2009-12-01 07:45:00</td>\n",
       "      <td>6.75</td>\n",
       "      <td>13085.0</td>\n",
       "      <td>United Kingdom</td>\n",
       "      <td>81.0</td>\n",
       "    </tr>\n",
       "    <tr>\n",
       "      <th>2</th>\n",
       "      <td>489434</td>\n",
       "      <td>79323W</td>\n",
       "      <td>WHITE CHERRY LIGHTS</td>\n",
       "      <td>12</td>\n",
       "      <td>2009-12-01 07:45:00</td>\n",
       "      <td>6.75</td>\n",
       "      <td>13085.0</td>\n",
       "      <td>United Kingdom</td>\n",
       "      <td>81.0</td>\n",
       "    </tr>\n",
       "    <tr>\n",
       "      <th>3</th>\n",
       "      <td>489434</td>\n",
       "      <td>22041</td>\n",
       "      <td>RECORD FRAME 7\" SINGLE SIZE</td>\n",
       "      <td>48</td>\n",
       "      <td>2009-12-01 07:45:00</td>\n",
       "      <td>2.10</td>\n",
       "      <td>13085.0</td>\n",
       "      <td>United Kingdom</td>\n",
       "      <td>100.8</td>\n",
       "    </tr>\n",
       "    <tr>\n",
       "      <th>4</th>\n",
       "      <td>489434</td>\n",
       "      <td>21232</td>\n",
       "      <td>STRAWBERRY CERAMIC TRINKET BOX</td>\n",
       "      <td>24</td>\n",
       "      <td>2009-12-01 07:45:00</td>\n",
       "      <td>1.25</td>\n",
       "      <td>13085.0</td>\n",
       "      <td>United Kingdom</td>\n",
       "      <td>30.0</td>\n",
       "    </tr>\n",
       "  </tbody>\n",
       "</table>\n",
       "</div>"
      ]
     },
     "metadata": {},
     "output_type": "display_data"
    }
   ],
   "source": [
    "df = pd.read_csv(\n",
    "    'data/online_retail_II.csv',\n",
    "    parse_dates=['InvoiceDate'],\n",
    "    dtype={'StockCode': str, 'Description': str, 'Customer ID': str}\n",
    ")\n",
    "\n",
    "df['TotalPrice'] = df['Quantity'] * df['Price']\n",
    "\n",
    "df.head()"
   ]
  },
  {
   "cell_type": "markdown",
   "id": "e68bbead",
   "metadata": {},
   "source": [
    "1. Выделить признаки покупателей.\\\n",
    "В качестве таких признаков можно использовать уже данные признаки, а\n",
    "также необходимо определить минимум еще два косвенных признака, на\n",
    "основе анализа данных."
   ]
  },
  {
   "cell_type": "code",
   "execution_count": 4,
   "id": "f0cf7d66",
   "metadata": {},
   "outputs": [
    {
     "data": {
      "text/html": [
       "<div>\n",
       "<style scoped>\n",
       "    .dataframe tbody tr th:only-of-type {\n",
       "        vertical-align: middle;\n",
       "    }\n",
       "\n",
       "    .dataframe tbody tr th {\n",
       "        vertical-align: top;\n",
       "    }\n",
       "\n",
       "    .dataframe thead th {\n",
       "        text-align: right;\n",
       "    }\n",
       "</style>\n",
       "<table border=\"1\" class=\"dataframe\">\n",
       "  <thead>\n",
       "    <tr style=\"text-align: right;\">\n",
       "      <th></th>\n",
       "      <th>country</th>\n",
       "      <th>total_spent</th>\n",
       "      <th>n_transactions</th>\n",
       "      <th>unique_products</th>\n",
       "      <th>avg_qty_per_tx</th>\n",
       "    </tr>\n",
       "    <tr>\n",
       "      <th>Customer ID</th>\n",
       "      <th></th>\n",
       "      <th></th>\n",
       "      <th></th>\n",
       "      <th></th>\n",
       "      <th></th>\n",
       "    </tr>\n",
       "  </thead>\n",
       "  <tbody>\n",
       "    <tr>\n",
       "      <th>12346.0</th>\n",
       "      <td>United Kingdom</td>\n",
       "      <td>-64.68</td>\n",
       "      <td>17</td>\n",
       "      <td>30</td>\n",
       "      <td>1.083333</td>\n",
       "    </tr>\n",
       "    <tr>\n",
       "      <th>12347.0</th>\n",
       "      <td>Iceland</td>\n",
       "      <td>5633.32</td>\n",
       "      <td>8</td>\n",
       "      <td>126</td>\n",
       "      <td>12.988142</td>\n",
       "    </tr>\n",
       "    <tr>\n",
       "      <th>12348.0</th>\n",
       "      <td>Finland</td>\n",
       "      <td>2019.40</td>\n",
       "      <td>5</td>\n",
       "      <td>25</td>\n",
       "      <td>53.215686</td>\n",
       "    </tr>\n",
       "    <tr>\n",
       "      <th>12349.0</th>\n",
       "      <td>Italy</td>\n",
       "      <td>4404.54</td>\n",
       "      <td>5</td>\n",
       "      <td>139</td>\n",
       "      <td>8.994444</td>\n",
       "    </tr>\n",
       "    <tr>\n",
       "      <th>12350.0</th>\n",
       "      <td>Norway</td>\n",
       "      <td>334.40</td>\n",
       "      <td>1</td>\n",
       "      <td>17</td>\n",
       "      <td>11.588235</td>\n",
       "    </tr>\n",
       "  </tbody>\n",
       "</table>\n",
       "</div>"
      ]
     },
     "metadata": {},
     "output_type": "display_data"
    }
   ],
   "source": [
    "cust = df.groupby('Customer ID').agg(\n",
    "    country = ('Country', 'first')\n",
    ")\n",
    "\n",
    "\n",
    "agg = df.groupby('Customer ID').agg(\n",
    "    total_spent  = ('TotalPrice', 'sum'),\n",
    "    n_transactions = ('Invoice', 'nunique'),\n",
    "    unique_products = ('StockCode', 'nunique'),\n",
    "    avg_qty_per_tx = ('Quantity', 'mean')\n",
    ")\n",
    "\n",
    "customer_features = cust.join(agg)\n",
    "customer_features.head()"
   ]
  },
  {
   "cell_type": "markdown",
   "id": "ab3d68ed",
   "metadata": {},
   "source": [
    "2. Выделить признаки продуктов.\\\n",
    "В качестве такого признака можно определить рейтинг продукта на основе,\n",
    "например, количества его покупок и/или частоту его продаж в\n",
    "определенные дни недели."
   ]
  },
  {
   "cell_type": "code",
   "execution_count": 5,
   "id": "a81fbdd4",
   "metadata": {},
   "outputs": [
    {
     "data": {
      "text/html": [
       "<div>\n",
       "<style scoped>\n",
       "    .dataframe tbody tr th:only-of-type {\n",
       "        vertical-align: middle;\n",
       "    }\n",
       "\n",
       "    .dataframe tbody tr th {\n",
       "        vertical-align: top;\n",
       "    }\n",
       "\n",
       "    .dataframe thead th {\n",
       "        text-align: right;\n",
       "    }\n",
       "</style>\n",
       "<table border=\"1\" class=\"dataframe\">\n",
       "  <thead>\n",
       "    <tr style=\"text-align: right;\">\n",
       "      <th></th>\n",
       "      <th>description</th>\n",
       "      <th>unit_price</th>\n",
       "      <th>total_sold</th>\n",
       "      <th>n_customers</th>\n",
       "      <th>Friday</th>\n",
       "      <th>Monday</th>\n",
       "      <th>Saturday</th>\n",
       "      <th>Sunday</th>\n",
       "      <th>Thursday</th>\n",
       "      <th>Tuesday</th>\n",
       "      <th>Wednesday</th>\n",
       "    </tr>\n",
       "    <tr>\n",
       "      <th>StockCode</th>\n",
       "      <th></th>\n",
       "      <th></th>\n",
       "      <th></th>\n",
       "      <th></th>\n",
       "      <th></th>\n",
       "      <th></th>\n",
       "      <th></th>\n",
       "      <th></th>\n",
       "      <th></th>\n",
       "      <th></th>\n",
       "      <th></th>\n",
       "    </tr>\n",
       "  </thead>\n",
       "  <tbody>\n",
       "    <tr>\n",
       "      <th>10002</th>\n",
       "      <td>INFLATABLE POLITICAL GLOBE</td>\n",
       "      <td>0.979150</td>\n",
       "      <td>7790</td>\n",
       "      <td>164</td>\n",
       "      <td>1757</td>\n",
       "      <td>1048</td>\n",
       "      <td>0</td>\n",
       "      <td>448</td>\n",
       "      <td>1928</td>\n",
       "      <td>1222</td>\n",
       "      <td>1387</td>\n",
       "    </tr>\n",
       "    <tr>\n",
       "      <th>10002R</th>\n",
       "      <td>ROBOT PENCIL SHARPNER</td>\n",
       "      <td>5.133333</td>\n",
       "      <td>4</td>\n",
       "      <td>0</td>\n",
       "      <td>2</td>\n",
       "      <td>1</td>\n",
       "      <td>0</td>\n",
       "      <td>0</td>\n",
       "      <td>0</td>\n",
       "      <td>0</td>\n",
       "      <td>1</td>\n",
       "    </tr>\n",
       "    <tr>\n",
       "      <th>10080</th>\n",
       "      <td>GROOVY CACTUS INFLATABLE</td>\n",
       "      <td>0.456129</td>\n",
       "      <td>597</td>\n",
       "      <td>23</td>\n",
       "      <td>31</td>\n",
       "      <td>88</td>\n",
       "      <td>0</td>\n",
       "      <td>3</td>\n",
       "      <td>68</td>\n",
       "      <td>370</td>\n",
       "      <td>37</td>\n",
       "    </tr>\n",
       "    <tr>\n",
       "      <th>10109</th>\n",
       "      <td>BENDY COLOUR PENCILS</td>\n",
       "      <td>0.210000</td>\n",
       "      <td>0</td>\n",
       "      <td>1</td>\n",
       "      <td>0</td>\n",
       "      <td>0</td>\n",
       "      <td>0</td>\n",
       "      <td>0</td>\n",
       "      <td>0</td>\n",
       "      <td>0</td>\n",
       "      <td>0</td>\n",
       "    </tr>\n",
       "    <tr>\n",
       "      <th>10120</th>\n",
       "      <td>DOGGY RUBBER</td>\n",
       "      <td>0.235190</td>\n",
       "      <td>-8350</td>\n",
       "      <td>52</td>\n",
       "      <td>159</td>\n",
       "      <td>90</td>\n",
       "      <td>0</td>\n",
       "      <td>71</td>\n",
       "      <td>110</td>\n",
       "      <td>-8931</td>\n",
       "      <td>151</td>\n",
       "    </tr>\n",
       "  </tbody>\n",
       "</table>\n",
       "</div>"
      ]
     },
     "metadata": {},
     "output_type": "display_data"
    }
   ],
   "source": [
    "prod = df.groupby('StockCode').agg(\n",
    "    description = ('Description', 'first'),\n",
    "    unit_price = ('Price', 'mean')\n",
    ")\n",
    "\n",
    "df['weekday'] = df['InvoiceDate'].dt.day_name()\n",
    "weekday = df.pivot_table(\n",
    "    index='StockCode',\n",
    "    columns='weekday',\n",
    "    values='Quantity',\n",
    "    aggfunc='sum',\n",
    "    fill_value=0\n",
    ")\n",
    "\n",
    "agg_prod = df.groupby('StockCode').agg(\n",
    "    total_sold = ('Quantity', 'sum'),\n",
    "    n_customers = ('Customer ID','nunique')\n",
    ")\n",
    "\n",
    "product_features = prod.join(agg_prod).join(weekday)\n",
    "product_features.head()"
   ]
  },
  {
   "cell_type": "markdown",
   "id": "d80b0f02",
   "metadata": {},
   "source": [
    "3. На основе выделенных признаков построить матрицу\n",
    "взаимодействий:\\\n",
    "➢ Строки — покупатели, столбцы — товары, значения — оценки или\n",
    "факты взаимодействий (например, покупки).\\\n",
    "➢ Матрица может быть разреженной, например, в формате CSR\n",
    "(Compressed Sparse Row)."
   ]
  },
  {
   "cell_type": "code",
   "execution_count": 6,
   "id": "19bd3094",
   "metadata": {},
   "outputs": [
    {
     "name": "stdout",
     "output_type": "stream",
     "text": [
      "Матрица взаимодействий: (5942, 5305)\n",
      "Ненулевых элементов: 483232\n"
     ]
    }
   ],
   "source": [
    "cust_ids = customer_features.index.tolist()\n",
    "prod_ids = product_features.index.tolist()\n",
    "cust_idx = {cid:i for i, cid in enumerate(cust_ids)}\n",
    "prod_idx = {pid:i for i, pid in enumerate(prod_ids)}\n",
    "\n",
    "inter = df.groupby(['Customer ID','StockCode'])['Quantity'].sum().reset_index()\n",
    "\n",
    "rows = inter['Customer ID'].map(cust_idx)\n",
    "cols = inter['StockCode'].map(prod_idx)\n",
    "data = inter['Quantity']  \n",
    "\n",
    "M = csr_matrix(\n",
    "    (data, (rows, cols)),\n",
    "    shape=(len(cust_ids), len(prod_ids))\n",
    ")\n",
    "\n",
    "user_item = M.copy()\n",
    "user_item.data = np.ones_like(user_item.data)\n",
    "user_item = user_item.tocsr() \n",
    "\n",
    "print('Матрица взаимодействий:', M.shape)\n",
    "print('Ненулевых элементов:', M.nnz)"
   ]
  },
  {
   "cell_type": "markdown",
   "id": "080a71d6",
   "metadata": {},
   "source": [
    "2. Обучение модели:\\\n",
    "o Используйте алгоритмы ALS (Alternate Least Squares) и BRP для\n",
    "обучения модели."
   ]
  },
  {
   "cell_type": "code",
   "execution_count": 7,
   "id": "7dce7429",
   "metadata": {},
   "outputs": [
    {
     "data": {
      "application/vnd.jupyter.widget-view+json": {
       "model_id": "ea8abe6eace54512839b43dabce43a35",
       "version_major": 2,
       "version_minor": 0
      },
      "text/plain": [
       "  0%|          | 0/20 [00:00<?, ?it/s]"
      ]
     },
     "metadata": {},
     "output_type": "display_data"
    },
    {
     "data": {
      "text/plain": [
       "(array([3406, 3401, 3392, 1466, 2577], dtype=int32),\n",
       " array([0.6008451 , 0.46363816, 0.3559905 , 0.3184213 , 0.27449685],\n",
       "       dtype=float32))"
      ]
     },
     "execution_count": 7,
     "metadata": {},
     "output_type": "execute_result"
    }
   ],
   "source": [
    "M_bin = M.copy()\n",
    "M_bin.data = np.ones_like(M_bin.data)\n",
    "\n",
    "item_user = M_bin.T.tocsr()\n",
    "\n",
    "als = implicit.als.AlternatingLeastSquares(\n",
    "    factors=20,\n",
    "    regularization=0.1,\n",
    "    iterations=20,\n",
    "    calculate_training_loss=True\n",
    ")\n",
    "\n",
    "als.fit(user_item)\n",
    "\n",
    "user_idx = 0\n",
    "user_items = M_bin.tocsr()\n",
    "recs_als = als.recommend(user_idx, user_items[user_idx], N=5)\n",
    "\n",
    "recs_als"
   ]
  },
  {
   "cell_type": "code",
   "execution_count": 8,
   "id": "99813160",
   "metadata": {},
   "outputs": [
    {
     "data": {
      "application/vnd.jupyter.widget-view+json": {
       "model_id": "5a3598e12e3c48598008661a7b0fbf9c",
       "version_major": 2,
       "version_minor": 0
      },
      "text/plain": [
       "  0%|          | 0/20 [00:00<?, ?it/s]"
      ]
     },
     "metadata": {},
     "output_type": "display_data"
    },
    {
     "data": {
      "text/plain": [
       "(array([5248, 4645, 2727, 5290, 1788], dtype=int32),\n",
       " array([0.32499725, 0.3002098 , 0.2868575 , 0.27449438, 0.24599528],\n",
       "       dtype=float32))"
      ]
     },
     "execution_count": 8,
     "metadata": {},
     "output_type": "execute_result"
    }
   ],
   "source": [
    "bpr = implicit.bpr.BayesianPersonalizedRanking(\n",
    "    factors=20,\n",
    "    regularization=0.1,\n",
    "    iterations=20\n",
    ")\n",
    "\n",
    "bpr.fit(user_item)\n",
    "\n",
    "recs_bpr = bpr.recommend(user_idx, user_items[user_idx], N=5)\n",
    "recs_bpr"
   ]
  },
  {
   "cell_type": "markdown",
   "id": "b2536548",
   "metadata": {},
   "source": [
    "3. Генерация рекомендаций:\\\n",
    "o Создайте список топ-N рекомендаций для нескольких\n",
    "пользователей.\\\n",
    "o Для проверки выберите хотя бы 5 пользователей."
   ]
  },
  {
   "cell_type": "code",
   "execution_count": 9,
   "id": "220f69b3",
   "metadata": {},
   "outputs": [
    {
     "name": "stdout",
     "output_type": "stream",
     "text": [
      "\n",
      "Рекомендации для пользователя 12346.0 (idx=0)\n",
      "ALS топ-3:\n",
      "  48194 — DOORMAT HEARTS (score=0.601)\n",
      "  48184 — DOOR MAT ENGLISH ROSE  (score=0.464)\n",
      "  48129 — DOOR MAT TOPIARY (score=0.356)\n",
      "BPR топ-3:\n",
      "  C2 — CARRIAGE (score=0.325)\n",
      "  85123A — WHITE HANGING HEART T-LIGHT HOLDER (score=0.300)\n",
      "  23444 — Next Day Carriage (score=0.287)\n",
      "\n",
      "Рекомендации для пользователя 12371.0 (idx=25)\n",
      "ALS топ-3:\n",
      "  23439 — HAND WARMER RED LOVE HEART (score=0.432)\n",
      "  22699 — ROSES REGENCY TEACUP AND SAUCER  (score=0.368)\n",
      "  21488 — RED WHITE SCARF  HOT WATER BOTTLE (score=0.364)\n",
      "BPR топ-3:\n",
      "  C2 — CARRIAGE (score=0.007)\n",
      "  85123A — WHITE HANGING HEART T-LIGHT HOLDER (score=0.006)\n",
      "  23444 — Next Day Carriage (score=0.006)\n",
      "\n",
      "Рекомендации для пользователя 12396.0 (idx=50)\n",
      "ALS топ-3:\n",
      "  21080 — SET/20 RED SPOTTY PAPER NAPKINS  (score=0.448)\n",
      "  84997B — RED 3 PIECE MINI DOTS CUTLERY SET (score=0.404)\n",
      "  21094 — SET/6 RED SPOTTY PAPER PLATES (score=0.401)\n",
      "BPR топ-3:\n",
      "  C2 — CARRIAGE (score=0.142)\n",
      "  85123A — WHITE HANGING HEART T-LIGHT HOLDER (score=0.131)\n",
      "  23444 — Next Day Carriage (score=0.126)\n",
      "\n",
      "Рекомендации для пользователя 12421.0 (idx=75)\n",
      "ALS топ-3:\n",
      "  21231 — SWEETHEART CERAMIC TRINKET BOX (score=0.329)\n",
      "  85123A — WHITE HANGING HEART T-LIGHT HOLDER (score=0.287)\n",
      "  22645 — CERAMIC HEART FAIRY CAKE MONEY BANK (score=0.206)\n",
      "BPR топ-3:\n",
      "  C2 — CARRIAGE (score=0.251)\n",
      "  85123A — WHITE HANGING HEART T-LIGHT HOLDER (score=0.232)\n",
      "  23444 — Next Day Carriage (score=0.221)\n",
      "\n",
      "Рекомендации для пользователя 12446.0 (idx=100)\n",
      "ALS топ-3:\n",
      "  22699 — ROSES REGENCY TEACUP AND SAUCER  (score=0.336)\n",
      "  22386 — JUMBO BAG PINK WITH WHITE SPOTS (score=0.333)\n",
      "  22697 — GREEN REGENCY TEACUP AND SAUCER (score=0.308)\n",
      "BPR топ-3:\n",
      "  C2 — CARRIAGE (score=0.267)\n",
      "  85123A — WHITE HANGING HEART T-LIGHT HOLDER (score=0.246)\n",
      "  23444 — Next Day Carriage (score=0.235)\n"
     ]
    }
   ],
   "source": [
    "idx_to_prod = {i: pid for i, pid in enumerate(prod_ids)}\n",
    "\n",
    "sample_user_idxs = [0, 25, 50, 75, 100]\n",
    "\n",
    "for user_idx in sample_user_idxs:\n",
    "    user_id = cust_ids[user_idx]\n",
    "    print(f'\\nРекомендации для пользователя {user_id} (idx={user_idx})')\n",
    "\n",
    "    prod_indices_als, scores_als = als.recommend(\n",
    "        user_idx, \n",
    "        user_items[user_idx], \n",
    "        N=3, \n",
    "        filter_already_liked_items=True\n",
    "    )\n",
    "    print('ALS топ-3:')\n",
    "    for idx, score in zip(prod_indices_als, scores_als):\n",
    "        prod_id = idx_to_prod.get(idx)\n",
    "        desc = product_features.at[prod_id, 'description']\n",
    "        print(f'  {prod_id} — {desc} (score={score:.3f})')\n",
    "\n",
    "    prod_indices_bpr, scores_bpr = bpr.recommend(\n",
    "        user_idx, \n",
    "        user_items[user_idx], \n",
    "        N=3, \n",
    "        filter_already_liked_items=True\n",
    "    )\n",
    "    print('BPR топ-3:')\n",
    "    for idx, score in zip(prod_indices_bpr, scores_bpr):\n",
    "        prod_id = idx_to_prod.get(idx)\n",
    "        desc = product_features.at[prod_id, 'description']\n",
    "        print(f'  {prod_id} — {desc} (score={score:.3f})')"
   ]
  },
  {
   "cell_type": "markdown",
   "id": "2755f3a4",
   "metadata": {},
   "source": [
    "4. Оценка модели:\\\n",
    "o Оцените производительность модели, используя метрики NDCG,\n",
    "precision@k и AUC для разных моделей.\\\n",
    "o Проверьте результаты как на обучающем, так и на тестовом наборах\n",
    "данных"
   ]
  },
  {
   "cell_type": "code",
   "execution_count": 10,
   "id": "46a88b61",
   "metadata": {},
   "outputs": [
    {
     "data": {
      "application/vnd.jupyter.widget-view+json": {
       "model_id": "644c0376e8394d629b4557dde5615d55",
       "version_major": 2,
       "version_minor": 0
      },
      "text/plain": [
       "  0%|          | 0/100 [00:00<?, ?it/s]"
      ]
     },
     "metadata": {},
     "output_type": "display_data"
    },
    {
     "data": {
      "application/vnd.jupyter.widget-view+json": {
       "model_id": "fdc23ab546d742d5be4e563c78e4a444",
       "version_major": 2,
       "version_minor": 0
      },
      "text/plain": [
       "  0%|          | 0/100 [00:00<?, ?it/s]"
      ]
     },
     "metadata": {},
     "output_type": "display_data"
    }
   ],
   "source": [
    "train_user_item, test_user_item = train_test_split(\n",
    "    user_item, train_percentage=0.8\n",
    ")\n",
    "\n",
    "train_item_user = train_user_item.T.tocsr()\n",
    "\n",
    "als_eval = implicit.als.AlternatingLeastSquares(\n",
    "    factors=100,\n",
    "    iterations=100\n",
    ")\n",
    "als_eval.fit(train_user_item)  \n",
    "\n",
    "bpr_eval = implicit.bpr.BayesianPersonalizedRanking(\n",
    "    factors=100,\n",
    "    iterations=100\n",
    ")\n",
    "\n",
    "bpr_eval.fit(train_user_item)"
   ]
  },
  {
   "cell_type": "code",
   "execution_count": 39,
   "id": "c7fc92dd",
   "metadata": {},
   "outputs": [
    {
     "data": {
      "application/vnd.jupyter.widget-view+json": {
       "model_id": "7253d845a3fa4533aa8c4d33315991ba",
       "version_major": 2,
       "version_minor": 0
      },
      "text/plain": [
       "  0%|          | 0/5904 [00:00<?, ?it/s]"
      ]
     },
     "metadata": {},
     "output_type": "display_data"
    },
    {
     "data": {
      "application/vnd.jupyter.widget-view+json": {
       "model_id": "bd6a2f5d66244aa480ffa81c90fed6e3",
       "version_major": 2,
       "version_minor": 0
      },
      "text/plain": [
       "  0%|          | 0/5904 [00:00<?, ?it/s]"
      ]
     },
     "metadata": {},
     "output_type": "display_data"
    },
    {
     "data": {
      "application/vnd.jupyter.widget-view+json": {
       "model_id": "97e46962ee25428a80c85f804998a808",
       "version_major": 2,
       "version_minor": 0
      },
      "text/plain": [
       "  0%|          | 0/5904 [00:00<?, ?it/s]"
      ]
     },
     "metadata": {},
     "output_type": "display_data"
    },
    {
     "data": {
      "application/vnd.jupyter.widget-view+json": {
       "model_id": "5fbcbc42c1d94c1eab93d6bd5f0e06ef",
       "version_major": 2,
       "version_minor": 0
      },
      "text/plain": [
       "  0%|          | 0/5555 [00:00<?, ?it/s]"
      ]
     },
     "metadata": {},
     "output_type": "display_data"
    },
    {
     "data": {
      "application/vnd.jupyter.widget-view+json": {
       "model_id": "7c9e53cc9d074813b583674ba81cded8",
       "version_major": 2,
       "version_minor": 0
      },
      "text/plain": [
       "  0%|          | 0/5555 [00:00<?, ?it/s]"
      ]
     },
     "metadata": {},
     "output_type": "display_data"
    },
    {
     "data": {
      "application/vnd.jupyter.widget-view+json": {
       "model_id": "3e7cd75c4d6a431aa3643d587ec3b402",
       "version_major": 2,
       "version_minor": 0
      },
      "text/plain": [
       "  0%|          | 0/5555 [00:00<?, ?it/s]"
      ]
     },
     "metadata": {},
     "output_type": "display_data"
    },
    {
     "name": "stdout",
     "output_type": "stream",
     "text": [
      "ALS\n",
      "train: precision@5 = 0.0000, NDCG@5 = 0.0000, AUC@5305 = 0.0000\n",
      "test: precision@5 = 0.2615, NDCG@5 = 0.2613, AUC@5305 = 0.8450\n"
     ]
    },
    {
     "data": {
      "application/vnd.jupyter.widget-view+json": {
       "model_id": "048d0f24eebc4f4d9bb38ec13dadd0e4",
       "version_major": 2,
       "version_minor": 0
      },
      "text/plain": [
       "  0%|          | 0/5904 [00:00<?, ?it/s]"
      ]
     },
     "metadata": {},
     "output_type": "display_data"
    },
    {
     "data": {
      "application/vnd.jupyter.widget-view+json": {
       "model_id": "bc0e37ef4bdc45818a98b88425bbc80d",
       "version_major": 2,
       "version_minor": 0
      },
      "text/plain": [
       "  0%|          | 0/5904 [00:00<?, ?it/s]"
      ]
     },
     "metadata": {},
     "output_type": "display_data"
    },
    {
     "data": {
      "application/vnd.jupyter.widget-view+json": {
       "model_id": "348cffd680794de6ad67c63a449e3ef4",
       "version_major": 2,
       "version_minor": 0
      },
      "text/plain": [
       "  0%|          | 0/5904 [00:00<?, ?it/s]"
      ]
     },
     "metadata": {},
     "output_type": "display_data"
    },
    {
     "data": {
      "application/vnd.jupyter.widget-view+json": {
       "model_id": "349c6f95eb4147a6955213e9f80023ef",
       "version_major": 2,
       "version_minor": 0
      },
      "text/plain": [
       "  0%|          | 0/5555 [00:00<?, ?it/s]"
      ]
     },
     "metadata": {},
     "output_type": "display_data"
    },
    {
     "data": {
      "application/vnd.jupyter.widget-view+json": {
       "model_id": "7820a62f024248b2973b3bcca0a676fd",
       "version_major": 2,
       "version_minor": 0
      },
      "text/plain": [
       "  0%|          | 0/5555 [00:00<?, ?it/s]"
      ]
     },
     "metadata": {},
     "output_type": "display_data"
    },
    {
     "data": {
      "application/vnd.jupyter.widget-view+json": {
       "model_id": "845eb84af7324fd28f8773f71779de5a",
       "version_major": 2,
       "version_minor": 0
      },
      "text/plain": [
       "  0%|          | 0/5555 [00:00<?, ?it/s]"
      ]
     },
     "metadata": {},
     "output_type": "display_data"
    },
    {
     "name": "stdout",
     "output_type": "stream",
     "text": [
      "BPR\n",
      "train: precision@5 = 0.0000, NDCG@5 = 0.0000, AUC@5305 = 0.0000\n",
      "test: precision@5 = 0.1572, NDCG@5 = 0.1577, AUC@5305 = 0.8649\n"
     ]
    }
   ],
   "source": [
    "for model, name in [(als_eval, 'ALS'), (bpr_eval, 'BPR')]:\n",
    "    p_tr = precision_at_k(model, train_user_item, train_user_item, K=5)\n",
    "    nd_tr = ndcg_at_k(model, train_user_item, train_user_item, K=5)\n",
    "    auc_tr = AUC_at_k(model, train_user_item, train_user_item, K=5305)\n",
    "\n",
    "    p_te = precision_at_k(model, train_user_item, test_user_item,  K=5)\n",
    "    nd_te = ndcg_at_k(model, train_user_item, test_user_item,  K=5)\n",
    "    auc_te = AUC_at_k(model, train_user_item, test_user_item,  K=5305)\n",
    "\n",
    "    print(f'{name}')\n",
    "    print(f'train: precision@5 = {p_tr:.4f}, NDCG@5 = {nd_tr:.4f}, AUC@5305 = {auc_tr:.4f}')\n",
    "    print(f'test: precision@5 = {p_te:.4f}, NDCG@5 = {nd_te:.4f}, AUC@5305 = {auc_te:.4f}')"
   ]
  },
  {
   "cell_type": "code",
   "execution_count": null,
   "id": "92d59039",
   "metadata": {},
   "outputs": [],
   "source": []
  }
 ],
 "metadata": {
  "kernelspec": {
   "display_name": "new",
   "language": "python",
   "name": "python3"
  },
  "language_info": {
   "codemirror_mode": {
    "name": "ipython",
    "version": 3
   },
   "file_extension": ".py",
   "mimetype": "text/x-python",
   "name": "python",
   "nbconvert_exporter": "python",
   "pygments_lexer": "ipython3",
   "version": "3.12.2"
  }
 },
 "nbformat": 4,
 "nbformat_minor": 5
}
