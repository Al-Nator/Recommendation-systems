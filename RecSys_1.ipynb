{
 "cells": [
  {
   "cell_type": "markdown",
   "metadata": {},
   "source": [
    "Цель: Разработать простую рекомендательную систему, которая будет рекомендовать пользователям самые популярные товары на основе имеющихся данных о продажах или взаимодействии с товарами, и проанализировать ее эффективность."
   ]
  },
  {
   "cell_type": "code",
   "execution_count": 229,
   "metadata": {},
   "outputs": [],
   "source": [
    "import pandas as pd"
   ]
  },
  {
   "cell_type": "markdown",
   "metadata": {},
   "source": [
    "1.\tПодготовка данных: создать или использовать существующий датасет с данными о товарах, их продажах или оценках. \n",
    "Датасет должен содержать:\n",
    "- идентификаторы товаров\n",
    "- информацию о продажах или оценках\n",
    "- другую релевантную информацию.\n",
    "Необходимо использовать набор данных с информацией о продажах товаров (например, количество покупок каждого товара) или о взаимодействии пользователей с товарами (например, просмотры, клики, добавления в корзину)."
   ]
  },
  {
   "cell_type": "code",
   "execution_count": 230,
   "metadata": {},
   "outputs": [
    {
     "data": {
      "text/html": [
       "<div>\n",
       "<style scoped>\n",
       "    .dataframe tbody tr th:only-of-type {\n",
       "        vertical-align: middle;\n",
       "    }\n",
       "\n",
       "    .dataframe tbody tr th {\n",
       "        vertical-align: top;\n",
       "    }\n",
       "\n",
       "    .dataframe thead th {\n",
       "        text-align: right;\n",
       "    }\n",
       "</style>\n",
       "<table border=\"1\" class=\"dataframe\">\n",
       "  <thead>\n",
       "    <tr style=\"text-align: right;\">\n",
       "      <th></th>\n",
       "      <th>product</th>\n",
       "      <th>category</th>\n",
       "      <th>sub_category</th>\n",
       "      <th>brand</th>\n",
       "      <th>sale_price</th>\n",
       "      <th>market_price</th>\n",
       "      <th>type</th>\n",
       "      <th>rating</th>\n",
       "      <th>description</th>\n",
       "    </tr>\n",
       "    <tr>\n",
       "      <th>index</th>\n",
       "      <th></th>\n",
       "      <th></th>\n",
       "      <th></th>\n",
       "      <th></th>\n",
       "      <th></th>\n",
       "      <th></th>\n",
       "      <th></th>\n",
       "      <th></th>\n",
       "      <th></th>\n",
       "    </tr>\n",
       "  </thead>\n",
       "  <tbody>\n",
       "    <tr>\n",
       "      <th>1</th>\n",
       "      <td>Garlic Oil - Vegetarian Capsule 500 mg</td>\n",
       "      <td>Beauty &amp; Hygiene</td>\n",
       "      <td>Hair Care</td>\n",
       "      <td>Sri Sri Ayurveda</td>\n",
       "      <td>220.0</td>\n",
       "      <td>220.0</td>\n",
       "      <td>Hair Oil &amp; Serum</td>\n",
       "      <td>4.1</td>\n",
       "      <td>This Product contains Garlic Oil that is known...</td>\n",
       "    </tr>\n",
       "    <tr>\n",
       "      <th>2</th>\n",
       "      <td>Water Bottle - Orange</td>\n",
       "      <td>Kitchen, Garden &amp; Pets</td>\n",
       "      <td>Storage &amp; Accessories</td>\n",
       "      <td>Mastercook</td>\n",
       "      <td>180.0</td>\n",
       "      <td>180.0</td>\n",
       "      <td>Water &amp; Fridge Bottles</td>\n",
       "      <td>2.3</td>\n",
       "      <td>Each product is microwave safe (without lid), ...</td>\n",
       "    </tr>\n",
       "    <tr>\n",
       "      <th>3</th>\n",
       "      <td>Brass Angle Deep - Plain, No.2</td>\n",
       "      <td>Cleaning &amp; Household</td>\n",
       "      <td>Pooja Needs</td>\n",
       "      <td>Trm</td>\n",
       "      <td>119.0</td>\n",
       "      <td>250.0</td>\n",
       "      <td>Lamp &amp; Lamp Oil</td>\n",
       "      <td>3.4</td>\n",
       "      <td>A perfect gift for all occasions, be it your m...</td>\n",
       "    </tr>\n",
       "    <tr>\n",
       "      <th>4</th>\n",
       "      <td>Cereal Flip Lid Container/Storage Jar - Assort...</td>\n",
       "      <td>Cleaning &amp; Household</td>\n",
       "      <td>Bins &amp; Bathroom Ware</td>\n",
       "      <td>Nakoda</td>\n",
       "      <td>149.0</td>\n",
       "      <td>176.0</td>\n",
       "      <td>Laundry, Storage Baskets</td>\n",
       "      <td>3.7</td>\n",
       "      <td>Multipurpose container with an attractive desi...</td>\n",
       "    </tr>\n",
       "    <tr>\n",
       "      <th>5</th>\n",
       "      <td>Creme Soft Soap - For Hands &amp; Body</td>\n",
       "      <td>Beauty &amp; Hygiene</td>\n",
       "      <td>Bath &amp; Hand Wash</td>\n",
       "      <td>Nivea</td>\n",
       "      <td>162.0</td>\n",
       "      <td>162.0</td>\n",
       "      <td>Bathing Bars &amp; Soaps</td>\n",
       "      <td>4.4</td>\n",
       "      <td>Nivea Creme Soft Soap gives your skin the best...</td>\n",
       "    </tr>\n",
       "  </tbody>\n",
       "</table>\n",
       "</div>"
      ],
      "text/plain": [
       "                                                 product  \\\n",
       "index                                                      \n",
       "1                 Garlic Oil - Vegetarian Capsule 500 mg   \n",
       "2                                  Water Bottle - Orange   \n",
       "3                         Brass Angle Deep - Plain, No.2   \n",
       "4      Cereal Flip Lid Container/Storage Jar - Assort...   \n",
       "5                     Creme Soft Soap - For Hands & Body   \n",
       "\n",
       "                     category           sub_category              brand  \\\n",
       "index                                                                     \n",
       "1            Beauty & Hygiene              Hair Care  Sri Sri Ayurveda    \n",
       "2      Kitchen, Garden & Pets  Storage & Accessories         Mastercook   \n",
       "3        Cleaning & Household            Pooja Needs                Trm   \n",
       "4        Cleaning & Household   Bins & Bathroom Ware             Nakoda   \n",
       "5            Beauty & Hygiene       Bath & Hand Wash              Nivea   \n",
       "\n",
       "       sale_price  market_price                      type  rating  \\\n",
       "index                                                               \n",
       "1           220.0         220.0          Hair Oil & Serum     4.1   \n",
       "2           180.0         180.0    Water & Fridge Bottles     2.3   \n",
       "3           119.0         250.0           Lamp & Lamp Oil     3.4   \n",
       "4           149.0         176.0  Laundry, Storage Baskets     3.7   \n",
       "5           162.0         162.0      Bathing Bars & Soaps     4.4   \n",
       "\n",
       "                                             description  \n",
       "index                                                     \n",
       "1      This Product contains Garlic Oil that is known...  \n",
       "2      Each product is microwave safe (without lid), ...  \n",
       "3      A perfect gift for all occasions, be it your m...  \n",
       "4      Multipurpose container with an attractive desi...  \n",
       "5      Nivea Creme Soft Soap gives your skin the best...  "
      ]
     },
     "execution_count": 230,
     "metadata": {},
     "output_type": "execute_result"
    }
   ],
   "source": [
    "data = pd.read_csv('Products\\\\Products.csv', index_col=0)\n",
    "data.head()"
   ]
  },
  {
   "cell_type": "markdown",
   "metadata": {},
   "source": [
    "1.1.\tЗагрузка и предобработка данных\n",
    "\n",
    "Загрузите данные и очистите их (удалите дубликаты, обработайте пропуски и т.д.)."
   ]
  },
  {
   "cell_type": "code",
   "execution_count": 231,
   "metadata": {},
   "outputs": [
    {
     "data": {
      "text/plain": [
       "354"
      ]
     },
     "execution_count": 231,
     "metadata": {},
     "output_type": "execute_result"
    }
   ],
   "source": [
    "data.duplicated().sum()"
   ]
  },
  {
   "cell_type": "code",
   "execution_count": 232,
   "metadata": {},
   "outputs": [
    {
     "data": {
      "text/plain": [
       "0"
      ]
     },
     "execution_count": 232,
     "metadata": {},
     "output_type": "execute_result"
    }
   ],
   "source": [
    "data = data.drop_duplicates()\n",
    "data.duplicated().sum()"
   ]
  },
  {
   "cell_type": "code",
   "execution_count": 233,
   "metadata": {},
   "outputs": [
    {
     "data": {
      "text/plain": [
       "product            1\n",
       "category           0\n",
       "sub_category       0\n",
       "brand              1\n",
       "sale_price         0\n",
       "market_price       0\n",
       "type               0\n",
       "rating          8463\n",
       "description      113\n",
       "dtype: int64"
      ]
     },
     "execution_count": 233,
     "metadata": {},
     "output_type": "execute_result"
    }
   ],
   "source": [
    "data.isna().sum()"
   ]
  },
  {
   "cell_type": "code",
   "execution_count": 234,
   "metadata": {},
   "outputs": [
    {
     "data": {
      "text/plain": [
       "product         0\n",
       "category        0\n",
       "sub_category    0\n",
       "brand           0\n",
       "sale_price      0\n",
       "market_price    0\n",
       "type            0\n",
       "rating          0\n",
       "description     0\n",
       "dtype: int64"
      ]
     },
     "execution_count": 234,
     "metadata": {},
     "output_type": "execute_result"
    }
   ],
   "source": [
    "data = data.dropna()\n",
    "data.isna().sum()"
   ]
  },
  {
   "cell_type": "markdown",
   "metadata": {},
   "source": [
    "1.2.\tАнализ данных:\n",
    "\n",
    "Проанализируйте данные, чтобы понять, какие товары наиболее популярны (например, по количеству покупок или по частоте взаимодействия)."
   ]
  },
  {
   "cell_type": "code",
   "execution_count": 235,
   "metadata": {},
   "outputs": [
    {
     "data": {
      "text/html": [
       "<div>\n",
       "<style scoped>\n",
       "    .dataframe tbody tr th:only-of-type {\n",
       "        vertical-align: middle;\n",
       "    }\n",
       "\n",
       "    .dataframe tbody tr th {\n",
       "        vertical-align: top;\n",
       "    }\n",
       "\n",
       "    .dataframe thead th {\n",
       "        text-align: right;\n",
       "    }\n",
       "</style>\n",
       "<table border=\"1\" class=\"dataframe\">\n",
       "  <thead>\n",
       "    <tr style=\"text-align: right;\">\n",
       "      <th></th>\n",
       "      <th>sale_price</th>\n",
       "      <th>market_price</th>\n",
       "      <th>rating</th>\n",
       "    </tr>\n",
       "  </thead>\n",
       "  <tbody>\n",
       "    <tr>\n",
       "      <th>count</th>\n",
       "      <td>18650.000000</td>\n",
       "      <td>18650.000000</td>\n",
       "      <td>18650.000000</td>\n",
       "    </tr>\n",
       "    <tr>\n",
       "      <th>mean</th>\n",
       "      <td>266.552195</td>\n",
       "      <td>320.816505</td>\n",
       "      <td>3.944080</td>\n",
       "    </tr>\n",
       "    <tr>\n",
       "      <th>std</th>\n",
       "      <td>363.974002</td>\n",
       "      <td>458.994859</td>\n",
       "      <td>0.736008</td>\n",
       "    </tr>\n",
       "    <tr>\n",
       "      <th>min</th>\n",
       "      <td>3.000000</td>\n",
       "      <td>3.000000</td>\n",
       "      <td>1.000000</td>\n",
       "    </tr>\n",
       "    <tr>\n",
       "      <th>25%</th>\n",
       "      <td>85.000000</td>\n",
       "      <td>95.000000</td>\n",
       "      <td>3.700000</td>\n",
       "    </tr>\n",
       "    <tr>\n",
       "      <th>50%</th>\n",
       "      <td>165.000000</td>\n",
       "      <td>195.000000</td>\n",
       "      <td>4.100000</td>\n",
       "    </tr>\n",
       "    <tr>\n",
       "      <th>75%</th>\n",
       "      <td>300.000000</td>\n",
       "      <td>360.000000</td>\n",
       "      <td>4.300000</td>\n",
       "    </tr>\n",
       "    <tr>\n",
       "      <th>max</th>\n",
       "      <td>6660.000000</td>\n",
       "      <td>7400.000000</td>\n",
       "      <td>5.000000</td>\n",
       "    </tr>\n",
       "  </tbody>\n",
       "</table>\n",
       "</div>"
      ],
      "text/plain": [
       "         sale_price  market_price        rating\n",
       "count  18650.000000  18650.000000  18650.000000\n",
       "mean     266.552195    320.816505      3.944080\n",
       "std      363.974002    458.994859      0.736008\n",
       "min        3.000000      3.000000      1.000000\n",
       "25%       85.000000     95.000000      3.700000\n",
       "50%      165.000000    195.000000      4.100000\n",
       "75%      300.000000    360.000000      4.300000\n",
       "max     6660.000000   7400.000000      5.000000"
      ]
     },
     "execution_count": 235,
     "metadata": {},
     "output_type": "execute_result"
    }
   ],
   "source": [
    "data.describe()"
   ]
  },
  {
   "cell_type": "code",
   "execution_count": 236,
   "metadata": {},
   "outputs": [
    {
     "name": "stdout",
     "output_type": "stream",
     "text": [
      "<class 'pandas.core.frame.DataFrame'>\n",
      "Index: 18650 entries, 1 to 27555\n",
      "Data columns (total 9 columns):\n",
      " #   Column        Non-Null Count  Dtype  \n",
      "---  ------        --------------  -----  \n",
      " 0   product       18650 non-null  object \n",
      " 1   category      18650 non-null  object \n",
      " 2   sub_category  18650 non-null  object \n",
      " 3   brand         18650 non-null  object \n",
      " 4   sale_price    18650 non-null  float64\n",
      " 5   market_price  18650 non-null  float64\n",
      " 6   type          18650 non-null  object \n",
      " 7   rating        18650 non-null  float64\n",
      " 8   description   18650 non-null  object \n",
      "dtypes: float64(3), object(6)\n",
      "memory usage: 1.4+ MB\n"
     ]
    }
   ],
   "source": [
    "data.info()"
   ]
  },
  {
   "cell_type": "code",
   "execution_count": 237,
   "metadata": {},
   "outputs": [
    {
     "data": {
      "text/plain": [
       "product\n",
       "Turmeric Powder/Arisina Pudi                   23\n",
       "Soft Drink                                     12\n",
       "Cow Ghee/Tuppa                                 11\n",
       "Ghee/Tuppa                                     11\n",
       "Powder - Coriander                             10\n",
       "                                               ..\n",
       "Glass Bowl With Lid - Polo                      1\n",
       "Glass Bowl With Pink Lid - Polo                 1\n",
       "Glass Bowl With Pink Lid Set - Freezowarm       1\n",
       "Glass Bowl with Orange Lid Set - Freezowarm     1\n",
       "oriental-Instant Noodles - Tomato Flavour       1\n",
       "Name: product, Length: 16217, dtype: int64"
      ]
     },
     "execution_count": 237,
     "metadata": {},
     "output_type": "execute_result"
    }
   ],
   "source": [
    "top_count = data.groupby('product')['product'].count().sort_values(ascending=False)\n",
    "top_count"
   ]
  },
  {
   "cell_type": "code",
   "execution_count": 238,
   "metadata": {},
   "outputs": [
    {
     "data": {
      "text/plain": [
       "product\n",
       "Plastic Yolk - Separator                                                                                               5.0\n",
       "Precious Brightening Night Creme                                                                                       5.0\n",
       "Face Mask for Kids - 7-12 Years, Red & Blue                                                                            5.0\n",
       "Ion Woman  Eau De Toilette Deodorant                                                                                   5.0\n",
       "Chocolate - Hazelnut Eclair                                                                                            5.0\n",
       "                                                                                                                      ... \n",
       "Omega Select Plus Non-Stick Paniyarakkal-11 Holes (30727)                                                              1.0\n",
       "Premium Ocean Steel Cloth Dryer - White                                                                                1.0\n",
       "Premium Round Plastic Container With Lid - Yellow                                                                      1.0\n",
       "Biodegradable Super Soft Black Sanitary Napkins - Small, Day Pads, Antibacterial, Ultra Thin & Rash Free Protection    1.0\n",
       "Legend For Woman Eau De Parfum                                                                                         1.0\n",
       "Name: rating, Length: 16217, dtype: float64"
      ]
     },
     "execution_count": 238,
     "metadata": {},
     "output_type": "execute_result"
    }
   ],
   "source": [
    "ratings = data.groupby('product')['rating'].mean().sort_values(ascending=False)\n",
    "ratings"
   ]
  },
  {
   "cell_type": "code",
   "execution_count": 248,
   "metadata": {},
   "outputs": [
    {
     "data": {
      "text/plain": [
       "product\n",
       "Good Girl Eau De Parfum For Women                    6660.0\n",
       "Man In Black Eau De Parfum                           6100.0\n",
       "Casserole Set - Die-Cast, Induction Base, Granite    6000.0\n",
       "Black Edition Eau De Parfum For Men                  5940.0\n",
       "Eau De Toilette For Men                              4905.0\n",
       "                                                      ...  \n",
       "Tiger Elaichi Cream Biscuits                            5.0\n",
       "Biscuits - Magix Kreams Choc                            5.0\n",
       "Polo - The Mint With The Hole                           5.0\n",
       "Tiger Chocolate Cream Biscuits                          5.0\n",
       "Serum                                                   3.0\n",
       "Name: sale_price, Length: 16217, dtype: float64"
      ]
     },
     "execution_count": 248,
     "metadata": {},
     "output_type": "execute_result"
    }
   ],
   "source": [
    "prices = data.groupby('product')['sale_price'].mean().sort_values(ascending=False)\n",
    "prices"
   ]
  },
  {
   "cell_type": "markdown",
   "metadata": {},
   "source": [
    "2.\tРеализация простой рекомендательной системы\n",
    "\n",
    "Разработать простую систему рекомендаций, которая рекомендует наиболее популярные товары на основе количества продаж или средней оценки."
   ]
  },
  {
   "cell_type": "markdown",
   "metadata": {},
   "source": [
    "2.1.\tОпределите, какие товары являются самыми популярными (например, топ-10 товаров по количеству покупок). Можно использовать функции из задания 1.2."
   ]
  },
  {
   "cell_type": "code",
   "execution_count": 249,
   "metadata": {},
   "outputs": [
    {
     "data": {
      "text/plain": [
       "product\n",
       "Turmeric Powder/Arisina Pudi                   23\n",
       "Soft Drink                                     12\n",
       "Cow Ghee/Tuppa                                 11\n",
       "Ghee/Tuppa                                     11\n",
       "Powder - Coriander                             10\n",
       "                                               ..\n",
       "Glass Bowl With Lid - Polo                      1\n",
       "Glass Bowl With Pink Lid - Polo                 1\n",
       "Glass Bowl With Pink Lid Set - Freezowarm       1\n",
       "Glass Bowl with Orange Lid Set - Freezowarm     1\n",
       "oriental-Instant Noodles - Tomato Flavour       1\n",
       "Name: product, Length: 16217, dtype: int64"
      ]
     },
     "execution_count": 249,
     "metadata": {},
     "output_type": "execute_result"
    }
   ],
   "source": [
    "top_count"
   ]
  },
  {
   "cell_type": "markdown",
   "metadata": {},
   "source": [
    "2.2.\tПостройте простую рекомендательную систему, которая будет рекомендовать эти популярные товары всем пользователям: реализуйте функцию, которая принимает на вход ID пользователя и возвращает список рекомендуемых товаров (например, топ- N популярных товаров)."
   ]
  },
  {
   "cell_type": "code",
   "execution_count": 255,
   "metadata": {},
   "outputs": [
    {
     "data": {
      "text/plain": [
       "product\n",
       "Olive Pomace Oil                                     0.065837\n",
       "Extra Light Olive Oil                                0.059409\n",
       "Olive Oil - Pomace                                   0.055341\n",
       "Extra Virgin Olive Oil                               0.053986\n",
       "Good Girl Eau De Parfum For Women                    0.043478\n",
       "Olive Oil - Extra Virgin                             0.039578\n",
       "Casserole Set - Die-Cast, Induction Base, Granite    0.039170\n",
       "Olive Oil - Extra Light                              0.034277\n",
       "Eau De Toilette For Men                              0.032021\n",
       "Man In Black Eau De Parfum                           0.031858\n",
       "dtype: float64"
      ]
     },
     "execution_count": 255,
     "metadata": {},
     "output_type": "execute_result"
    }
   ],
   "source": [
    "top_10 = ((top_count / top_count.max()) * (ratings / ratings.max()) * (prices / prices.max())).sort_values(ascending=False)[:10]\n",
    "top_10"
   ]
  },
  {
   "cell_type": "code",
   "execution_count": 271,
   "metadata": {},
   "outputs": [
    {
     "data": {
      "text/plain": [
       "array(['Beauty & Hygiene', 'Kitchen, Garden & Pets',\n",
       "       'Cleaning & Household', 'Gourmet & World Food',\n",
       "       'Foodgrains, Oil & Masala', 'Snacks & Branded Foods', 'Beverages',\n",
       "       'Bakery, Cakes & Dairy', 'Baby Care'], dtype=object)"
      ]
     },
     "execution_count": 271,
     "metadata": {},
     "output_type": "execute_result"
    }
   ],
   "source": [
    "data['category'].unique()"
   ]
  },
  {
   "cell_type": "code",
   "execution_count": 272,
   "metadata": {},
   "outputs": [],
   "source": [
    "def recsys(id, cat):\n",
    "    filtered_data = data[data['category'] == cat]\n",
    "    \n",
    "    top_count = filtered_data.groupby('product')['product'].count().sort_values(ascending=False)\n",
    "    ratings = filtered_data.groupby('product')['rating'].mean().sort_values(ascending=False)\n",
    "    prices = filtered_data.groupby('product')['sale_price'].mean().sort_values(ascending=False)\n",
    "    top_10 = ((top_count / top_count.max()) * (ratings / ratings.max()) * (prices / prices.max())).sort_values(ascending=False)[:10]\n",
    "    print(f'Рекомендуемые товары для пользователя:')\n",
    "    return top_10.index.tolist()"
   ]
  },
  {
   "cell_type": "code",
   "execution_count": 273,
   "metadata": {},
   "outputs": [
    {
     "name": "stdout",
     "output_type": "stream",
     "text": [
      "Рекомендуемые товары для пользователя:\n"
     ]
    },
    {
     "data": {
      "text/plain": [
       "['Almond Milk - Unsweetened',\n",
       " 'Cooking Butter - Unsalted',\n",
       " 'Assorted Cookies',\n",
       " 'Cheese - Slices',\n",
       " 'Almond Coconut - Unsweetened Milk',\n",
       " 'Cooking Butter - Unsalted, Organic',\n",
       " 'Soya Milk - Chocolate',\n",
       " 'Almond Milk Cacao - Lactose Free, Dairy Free & Vegan',\n",
       " 'Almond Milk - Natural, Unsweetened',\n",
       " 'Nourish Toned Milk']"
      ]
     },
     "execution_count": 273,
     "metadata": {},
     "output_type": "execute_result"
    }
   ],
   "source": [
    "recsys(100, 'Bakery, Cakes & Dairy')"
   ]
  },
  {
   "cell_type": "markdown",
   "metadata": {},
   "source": [
    "3.\tОценка и анализ\n",
    "\n",
    "Оцените работу вашей рекомендательной системы. Для этого можно использовать метрику точности (accuracy) на тестовом наборе данных. Например, можно проверить, насколько часто товары из топ-N популярных оказываются в списке покупок пользователей."
   ]
  },
  {
   "cell_type": "code",
   "execution_count": 267,
   "metadata": {},
   "outputs": [
    {
     "data": {
      "text/plain": [
       "0.005951742627345845"
      ]
     },
     "execution_count": 267,
     "metadata": {},
     "output_type": "execute_result"
    }
   ],
   "source": [
    "data['product'].isin(top_count.index[:10]).sum() / data.shape[0]"
   ]
  },
  {
   "cell_type": "markdown",
   "metadata": {},
   "source": [
    "3.1.\tОценить эффективность системы на основе метрик, таких как точность рекомендаций и удовлетворенность пользователей."
   ]
  },
  {
   "cell_type": "code",
   "execution_count": 270,
   "metadata": {},
   "outputs": [
    {
     "data": {
      "text/plain": [
       "0.002412868632707775"
      ]
     },
     "execution_count": 270,
     "metadata": {},
     "output_type": "execute_result"
    }
   ],
   "source": [
    "data['product'].isin(top_10.index).sum() / data.shape[0]"
   ]
  },
  {
   "cell_type": "markdown",
   "metadata": {},
   "source": [
    "3.2.\tСравнить результаты с другими простыми подходами, например, случайными рекомендациями."
   ]
  },
  {
   "cell_type": "code",
   "execution_count": 264,
   "metadata": {},
   "outputs": [
    {
     "data": {
      "text/plain": [
       "0.0005361930294906167"
      ]
     },
     "execution_count": 264,
     "metadata": {},
     "output_type": "execute_result"
    }
   ],
   "source": [
    "data['product'].sample(10).shape[0] / data.shape[0]"
   ]
  },
  {
   "cell_type": "code",
   "execution_count": null,
   "metadata": {},
   "outputs": [],
   "source": []
  }
 ],
 "metadata": {
  "kernelspec": {
   "display_name": "base",
   "language": "python",
   "name": "python3"
  },
  "language_info": {
   "codemirror_mode": {
    "name": "ipython",
    "version": 3
   },
   "file_extension": ".py",
   "mimetype": "text/x-python",
   "name": "python",
   "nbconvert_exporter": "python",
   "pygments_lexer": "ipython3",
   "version": "3.11.5"
  }
 },
 "nbformat": 4,
 "nbformat_minor": 2
}
